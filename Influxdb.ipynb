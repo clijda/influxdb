{
 "cells": [
  {
   "cell_type": "code",
   "execution_count": 1,
   "metadata": {},
   "outputs": [],
   "source": [
    "import influxdb\n",
    "from influxdb import InfluxDBClient, DataFrameClient\n",
    "import pandas as pd"
   ]
  },
  {
   "cell_type": "code",
   "execution_count": 2,
   "metadata": {},
   "outputs": [],
   "source": [
    "client = InfluxDBClient('localhost', 8086, 'root', 'root', 'mydb')"
   ]
  },
  {
   "cell_type": "code",
   "execution_count": 3,
   "metadata": {},
   "outputs": [],
   "source": [
    "result = client.query('select * from tag1;')"
   ]
  },
  {
   "cell_type": "code",
   "execution_count": 4,
   "metadata": {},
   "outputs": [
    {
     "name": "stdout",
     "output_type": "stream",
     "text": [
      "Result: ResultSet({'('tag1', None)': [{'time': '2020-07-08T18:21:48.201433Z', 'area': 'area1', 'plant': 'plant1', 'unit': 'kg/h', 'value': 64.6}, {'time': '2020-07-08T21:08:45.900390Z', 'area': 'area1', 'plant': 'plant1', 'unit': 'kg/h', 'value': 65.6}, {'time': '2020-07-08T21:08:51.524166Z', 'area': 'area1', 'plant': 'plant1', 'unit': 'kg/h', 'value': 65.7}, {'time': '2020-07-08T21:08:57.189089Z', 'area': 'area1', 'plant': 'plant1', 'unit': 'kg/h', 'value': 63.7}, {'time': '2020-07-08T21:09:03.434352Z', 'area': 'area1', 'plant': 'plant1', 'unit': 'kg/h', 'value': 68.7}, {'time': '2020-07-08T21:09:08.543839Z', 'area': 'area1', 'plant': 'plant1', 'unit': 'kg/h', 'value': 68.8}]})\n"
     ]
    }
   ],
   "source": [
    "print(\"Result: {0}\".format(result))"
   ]
  },
  {
   "cell_type": "code",
   "execution_count": 5,
   "metadata": {},
   "outputs": [
    {
     "name": "stdout",
     "output_type": "stream",
     "text": [
      "PO AR TI-17934 AV F:\\Data Science\\04 Benzene Extraction\\POARTI-17934_av.csv\n"
     ]
    }
   ],
   "source": [
    "# extract metadata from tagname (filename)\n",
    "fn = \"POARTI-17934_av.csv\"\n",
    "fp = 'F:\\\\Data Science\\\\04 Benzene Extraction\\\\'\n",
    "loc = fn[:2]\n",
    "plant = fn[2:4]\n",
    "tag = fn.split(plant)[1].split(\"_\")[0]\n",
    "tagtype = fn.split(\"_\")[1].split(\".\")[0].upper()\n",
    "f = fp+fn\n",
    "print(loc,plant,tag,tagtype,f)"
   ]
  },
  {
   "cell_type": "code",
   "execution_count": 6,
   "metadata": {},
   "outputs": [
    {
     "name": "stdout",
     "output_type": "stream",
     "text": [
      "Wall time: 14.6 s\n"
     ]
    },
    {
     "data": {
      "text/html": [
       "<div>\n",
       "<style scoped>\n",
       "    .dataframe tbody tr th:only-of-type {\n",
       "        vertical-align: middle;\n",
       "    }\n",
       "\n",
       "    .dataframe tbody tr th {\n",
       "        vertical-align: top;\n",
       "    }\n",
       "\n",
       "    .dataframe thead th {\n",
       "        text-align: right;\n",
       "    }\n",
       "</style>\n",
       "<table border=\"1\" class=\"dataframe\">\n",
       "  <thead>\n",
       "    <tr style=\"text-align: right;\">\n",
       "      <th></th>\n",
       "      <th>value</th>\n",
       "      <th>TAG</th>\n",
       "      <th>TYPE</th>\n",
       "      <th>LOC</th>\n",
       "      <th>PLANT</th>\n",
       "    </tr>\n",
       "    <tr>\n",
       "      <th>epoch</th>\n",
       "      <th></th>\n",
       "      <th></th>\n",
       "      <th></th>\n",
       "      <th></th>\n",
       "      <th></th>\n",
       "    </tr>\n",
       "  </thead>\n",
       "  <tbody>\n",
       "    <tr>\n",
       "      <th>2014-01-01 00:00:00</th>\n",
       "      <td>0.000000</td>\n",
       "      <td>TI-17934</td>\n",
       "      <td>AV</td>\n",
       "      <td>PO</td>\n",
       "      <td>AR</td>\n",
       "    </tr>\n",
       "    <tr>\n",
       "      <th>2014-01-01 00:15:00</th>\n",
       "      <td>0.000000</td>\n",
       "      <td>TI-17934</td>\n",
       "      <td>AV</td>\n",
       "      <td>PO</td>\n",
       "      <td>AR</td>\n",
       "    </tr>\n",
       "    <tr>\n",
       "      <th>2014-01-01 00:30:00</th>\n",
       "      <td>0.000000</td>\n",
       "      <td>TI-17934</td>\n",
       "      <td>AV</td>\n",
       "      <td>PO</td>\n",
       "      <td>AR</td>\n",
       "    </tr>\n",
       "    <tr>\n",
       "      <th>2014-01-01 00:45:00</th>\n",
       "      <td>0.000000</td>\n",
       "      <td>TI-17934</td>\n",
       "      <td>AV</td>\n",
       "      <td>PO</td>\n",
       "      <td>AR</td>\n",
       "    </tr>\n",
       "    <tr>\n",
       "      <th>2014-01-01 01:00:00</th>\n",
       "      <td>0.000000</td>\n",
       "      <td>TI-17934</td>\n",
       "      <td>AV</td>\n",
       "      <td>PO</td>\n",
       "      <td>AR</td>\n",
       "    </tr>\n",
       "    <tr>\n",
       "      <th>...</th>\n",
       "      <td>...</td>\n",
       "      <td>...</td>\n",
       "      <td>...</td>\n",
       "      <td>...</td>\n",
       "      <td>...</td>\n",
       "    </tr>\n",
       "    <tr>\n",
       "      <th>2016-11-24 22:45:00</th>\n",
       "      <td>183.180386</td>\n",
       "      <td>TI-17934</td>\n",
       "      <td>AV</td>\n",
       "      <td>PO</td>\n",
       "      <td>AR</td>\n",
       "    </tr>\n",
       "    <tr>\n",
       "      <th>2016-11-24 23:00:00</th>\n",
       "      <td>183.241152</td>\n",
       "      <td>TI-17934</td>\n",
       "      <td>AV</td>\n",
       "      <td>PO</td>\n",
       "      <td>AR</td>\n",
       "    </tr>\n",
       "    <tr>\n",
       "      <th>2016-11-24 23:15:00</th>\n",
       "      <td>183.052796</td>\n",
       "      <td>TI-17934</td>\n",
       "      <td>AV</td>\n",
       "      <td>PO</td>\n",
       "      <td>AR</td>\n",
       "    </tr>\n",
       "    <tr>\n",
       "      <th>2016-11-24 23:30:00</th>\n",
       "      <td>183.213358</td>\n",
       "      <td>TI-17934</td>\n",
       "      <td>AV</td>\n",
       "      <td>PO</td>\n",
       "      <td>AR</td>\n",
       "    </tr>\n",
       "    <tr>\n",
       "      <th>2016-11-24 23:45:00</th>\n",
       "      <td>183.294737</td>\n",
       "      <td>TI-17934</td>\n",
       "      <td>AV</td>\n",
       "      <td>PO</td>\n",
       "      <td>AR</td>\n",
       "    </tr>\n",
       "  </tbody>\n",
       "</table>\n",
       "<p>101664 rows × 5 columns</p>\n",
       "</div>"
      ],
      "text/plain": [
       "                          value       TAG TYPE LOC PLANT\n",
       "epoch                                                   \n",
       "2014-01-01 00:00:00    0.000000  TI-17934   AV  PO    AR\n",
       "2014-01-01 00:15:00    0.000000  TI-17934   AV  PO    AR\n",
       "2014-01-01 00:30:00    0.000000  TI-17934   AV  PO    AR\n",
       "2014-01-01 00:45:00    0.000000  TI-17934   AV  PO    AR\n",
       "2014-01-01 01:00:00    0.000000  TI-17934   AV  PO    AR\n",
       "...                         ...       ...  ...  ..   ...\n",
       "2016-11-24 22:45:00  183.180386  TI-17934   AV  PO    AR\n",
       "2016-11-24 23:00:00  183.241152  TI-17934   AV  PO    AR\n",
       "2016-11-24 23:15:00  183.052796  TI-17934   AV  PO    AR\n",
       "2016-11-24 23:30:00  183.213358  TI-17934   AV  PO    AR\n",
       "2016-11-24 23:45:00  183.294737  TI-17934   AV  PO    AR\n",
       "\n",
       "[101664 rows x 5 columns]"
      ]
     },
     "execution_count": 6,
     "metadata": {},
     "output_type": "execute_result"
    }
   ],
   "source": [
    "%%time\n",
    "# read csv file with extracted data from IP21\n",
    "# convert csv to pandas line input for influxdb\n",
    "df = pd.read_csv(f,index_col=0)\n",
    "df['epoch'] = pd.to_datetime(df['TS_START'])#.astype('int64')//1e9\n",
    "df.set_index('epoch',inplace=True)\n",
    "df.drop('TS_START',axis=1,inplace=True)\n",
    "df.columns = ['value']\n",
    "df['TAG'] = tag\n",
    "df['TYPE'] = tagtype\n",
    "df['LOC'] = loc\n",
    "df['PLANT'] = plant\n",
    "df"
   ]
  },
  {
   "cell_type": "code",
   "execution_count": 7,
   "metadata": {},
   "outputs": [
    {
     "name": "stdout",
     "output_type": "stream",
     "text": [
      "Wall time: 2.82 s\n"
     ]
    },
    {
     "data": {
      "text/plain": [
       "True"
      ]
     },
     "execution_count": 7,
     "metadata": {},
     "output_type": "execute_result"
    }
   ],
   "source": [
    "%%time\n",
    "# write dataframe to influxdb\n",
    "measurement = \"IP21\"\n",
    "field_columns = ['value']\n",
    "tag_columns = ['TAG','TYPE','LOC','PLANT']\n",
    "\n",
    "dfc = DataFrameClient('localhost', 8086, 'root', 'root', 'mydb')\n",
    "dfc.write_points(df,measurement=measurement, field_columns=field_columns, tag_columns=tag_columns)"
   ]
  },
  {
   "cell_type": "code",
   "execution_count": 8,
   "metadata": {},
   "outputs": [],
   "source": [
    "#client.drop_measurement(\"IP21\")"
   ]
  }
 ],
 "metadata": {
  "kernelspec": {
   "display_name": "Python 3",
   "language": "python",
   "name": "python3"
  },
  "language_info": {
   "codemirror_mode": {
    "name": "ipython",
    "version": 3
   },
   "file_extension": ".py",
   "mimetype": "text/x-python",
   "name": "python",
   "nbconvert_exporter": "python",
   "pygments_lexer": "ipython3",
   "version": "3.7.6"
  }
 },
 "nbformat": 4,
 "nbformat_minor": 4
}
